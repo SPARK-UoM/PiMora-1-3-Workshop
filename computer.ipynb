{
 "cells": [
  {
   "cell_type": "code",
   "execution_count": 2,
   "metadata": {},
   "outputs": [
    {
     "name": "stderr",
     "output_type": "stream",
     "text": [
      "C:\\Users\\HP\\AppData\\Local\\Programs\\Python\\Python38\\lib\\site-packages\\tqdm\\auto.py:22: TqdmWarning: IProgress not found. Please update jupyter and ipywidgets. See https://ipywidgets.readthedocs.io/en/stable/user_install.html\n",
      "  from .autonotebook import tqdm as notebook_tqdm\n"
     ]
    }
   ],
   "source": [
    "import torch\n",
    "from torch.utils.data import Dataset\n",
    "import pandas as pd\n",
    "from torchvision.io import read_image\n",
    "from torchvision.transforms import Resize\n",
    "from torchvision.transforms import ToTensor\n",
    "from torch import nn\n",
    "from torch.optim import Optimizer\n",
    "from torch.optim import Adam\n",
    "import numpy as np\n",
    "import cv2"
   ]
  },
  {
   "cell_type": "code",
   "execution_count": 3,
   "metadata": {},
   "outputs": [
    {
     "name": "stdout",
     "output_type": "stream",
     "text": [
      "cpu\n"
     ]
    }
   ],
   "source": [
    "device = torch.device('cuda:0' if torch.cuda.is_available() else 'cpu')\n",
    "print(device)"
   ]
  },
  {
   "cell_type": "code",
   "execution_count": 4,
   "metadata": {},
   "outputs": [],
   "source": [
    "class MaskDetector(nn.Module):\n",
    "    def __init__(self, loss_function):\n",
    "        super(MaskDetector, self).__init__()\n",
    "\n",
    "        self.loss_function = loss_function\n",
    "\n",
    "        self.conv2d_1 = nn.Sequential(\n",
    "            nn.Conv2d(3, 32, kernel_size=(3,3), padding=(1,1)),\n",
    "            nn.ReLU(),\n",
    "            nn.MaxPool2d(kernel_size=(2,2))\n",
    "        )\n",
    "\n",
    "        self.conv2d_2 = nn.Sequential(\n",
    "            nn.Conv2d(32, 64, kernel_size=(3,3), padding=(1,1)),\n",
    "            nn.ReLU(),\n",
    "            nn.MaxPool2d(kernel_size=(2,2))\n",
    "        )\n",
    "\n",
    "        self.conv2d_3 = nn.Sequential(\n",
    "            nn.Conv2d(64, 128, kernel_size=(3,3), padding=(1,1), stride=(3,3)),\n",
    "            nn.ReLU(),\n",
    "            nn.MaxPool2d(kernel_size=(2,2))\n",
    "        )\n",
    "\n",
    "        self.linearLayers = nn.Sequential(\n",
    "            nn.Linear(in_features=2048, out_features=1024),\n",
    "            nn.ReLU(),\n",
    "            nn.Linear(in_features=1024, out_features=2)\n",
    "        )\n",
    "\n",
    "        for sequential in [self.conv2d_1, self.conv2d_2, self.conv2d_3, self.linearLayers]:\n",
    "            for layer in sequential.children():\n",
    "                if isinstance(layer, (nn.Linear, nn.Conv2d)):\n",
    "                    nn.init.xavier_uniform_(layer.weight)\n",
    "\n",
    "    def forward(self, x):\n",
    "        out = self.conv2d_1(x)\n",
    "        out = self.conv2d_2(out)\n",
    "        out = self.conv2d_3(out)\n",
    "        out = out.view(-1, 2048)\n",
    "        out = self.linearLayers(out)\n",
    "\n",
    "        return out\n",
    "    \n",
    "    def add_optimizer(self, optimizer):\n",
    "        self.optimizer = optimizer"
   ]
  },
  {
   "cell_type": "code",
   "execution_count": 5,
   "metadata": {},
   "outputs": [
    {
     "data": {
      "text/plain": [
       "MaskDetector(\n",
       "  (loss_function): CrossEntropyLoss()\n",
       "  (conv2d_1): Sequential(\n",
       "    (0): Conv2d(3, 32, kernel_size=(3, 3), stride=(1, 1), padding=(1, 1))\n",
       "    (1): ReLU()\n",
       "    (2): MaxPool2d(kernel_size=(2, 2), stride=(2, 2), padding=0, dilation=1, ceil_mode=False)\n",
       "  )\n",
       "  (conv2d_2): Sequential(\n",
       "    (0): Conv2d(32, 64, kernel_size=(3, 3), stride=(1, 1), padding=(1, 1))\n",
       "    (1): ReLU()\n",
       "    (2): MaxPool2d(kernel_size=(2, 2), stride=(2, 2), padding=0, dilation=1, ceil_mode=False)\n",
       "  )\n",
       "  (conv2d_3): Sequential(\n",
       "    (0): Conv2d(64, 128, kernel_size=(3, 3), stride=(3, 3), padding=(1, 1))\n",
       "    (1): ReLU()\n",
       "    (2): MaxPool2d(kernel_size=(2, 2), stride=(2, 2), padding=0, dilation=1, ceil_mode=False)\n",
       "  )\n",
       "  (linearLayers): Sequential(\n",
       "    (0): Linear(in_features=2048, out_features=1024, bias=True)\n",
       "    (1): ReLU()\n",
       "    (2): Linear(in_features=1024, out_features=2, bias=True)\n",
       "  )\n",
       ")"
      ]
     },
     "execution_count": 5,
     "metadata": {},
     "output_type": "execute_result"
    }
   ],
   "source": [
    "normed_weights = [0.015228536906614965, 0.984771463093385]\n",
    "loss_function = nn.CrossEntropyLoss(weight=torch.tensor(normed_weights))\n",
    "\n",
    "model = MaskDetector(loss_function)\n",
    "m_state_dict = torch.load('Resources\\large_model.pt', map_location=device)\n",
    "model.load_state_dict(m_state_dict)\n",
    "model.to(device)"
   ]
  },
  {
   "cell_type": "code",
   "execution_count": 6,
   "metadata": {},
   "outputs": [],
   "source": [
    "\"\"\" Face detection using neural network\n",
    "\"\"\"\n",
    "from pathlib import Path\n",
    "\n",
    "import numpy as np\n",
    "from cv2 import resize\n",
    "from cv2.dnn import blobFromImage, readNetFromCaffe\n",
    "\n",
    "\n",
    "class FaceDetectorException(Exception):\n",
    "    \"\"\" generic default exception\n",
    "    \"\"\"\n",
    "\n",
    "\n",
    "class FaceDetector:\n",
    "    \"\"\" Face Detector class\n",
    "    \"\"\"\n",
    "    def __init__(self, prototype: Path=None, model: Path=None,\n",
    "                 confidenceThreshold: float=0.6):\n",
    "        self.prototype = prototype\n",
    "        self.model = model\n",
    "        self.confidenceThreshold = confidenceThreshold\n",
    "        if self.prototype is None:\n",
    "            raise FaceDetectorException(\"must specify prototype '.prototxt.txt' file \"\n",
    "                                        \"path\")\n",
    "        if self.model is None:\n",
    "            raise FaceDetectorException(\"must specify model '.caffemodel' file path\")\n",
    "        self.classifier = readNetFromCaffe(str(prototype), str(model))\n",
    "    \n",
    "    def detect(self, image):\n",
    "        \"\"\" detect faces in image\n",
    "        \"\"\"\n",
    "        net = self.classifier\n",
    "        height, width = image.shape[:2]\n",
    "        blob = blobFromImage(resize(image, (300, 300)), 1.0,\n",
    "                             (300, 300), (104.0, 177.0, 123.0))\n",
    "        net.setInput(blob)\n",
    "        detections = net.forward()\n",
    "        faces = []\n",
    "        for i in range(0, detections.shape[2]):\n",
    "            confidence = detections[0, 0, i, 2]\n",
    "            if confidence < self.confidenceThreshold:\n",
    "                continue\n",
    "            box = detections[0, 0, i, 3:7] * np.array([width, height, width, height])\n",
    "            startX, startY, endX, endY = box.astype(\"int\")\n",
    "            faces.append(np.array([startX, startY, endX-startX, endY-startY]))\n",
    "        return faces"
   ]
  },
  {
   "cell_type": "code",
   "execution_count": 7,
   "metadata": {},
   "outputs": [],
   "source": [
    "def get_inference(img):\n",
    "    re_img = Resize((100, 100))(img).reshape((1, 3, 100, 100)).float()\n",
    "    re_img = re_img.to(device)\n",
    "\n",
    "    pred = model(re_img)\n",
    "    res = pred.argmax(dim = 1)\n",
    "\n",
    "    if res == 1:\n",
    "        print(\"Masked\", end=\"\\r\")\n",
    "    else:\n",
    "        print(\"No mask\", end=\"\\r\")\n",
    "    \n",
    "    return res"
   ]
  },
  {
   "cell_type": "code",
   "execution_count": 10,
   "metadata": {},
   "outputs": [
    {
     "name": "stdout",
     "output_type": "stream",
     "text": [
      "No mask\r"
     ]
    }
   ],
   "source": [
    "faceDetector = FaceDetector(\n",
    "        prototype='Resources/deploy.prototxt.txt',\n",
    "        model='Resources/res10_300x300_ssd_iter_140000.caffemodel',\n",
    "    )\n",
    "\n",
    "labels = ['No mask', 'Mask']\n",
    "labelColor = [(10, 0, 255), (10, 255, 0)]\n",
    "font = cv2.FONT_HERSHEY_SIMPLEX\n",
    "\n",
    "cam = cv2.VideoCapture(0)\n",
    "\n",
    "while True:\n",
    "    check, frame = cam.read()\n",
    "\n",
    "    frame = cv2.cvtColor(frame, cv2.COLOR_BGR2RGB)\n",
    "    faces = faceDetector.detect(frame)\n",
    "\n",
    "    # drawing rectangles\n",
    "    for (x, y , w ,h) in faces:\n",
    "        cv2.rectangle(frame, (x,y), (x+w, y+h), (255, 0 , 0), 3)\n",
    "        faceImg = frame[y:y+h, x:x+w]\n",
    "\n",
    "        faceImg = torch.tensor(faceImg).permute(2, 0, 1)\n",
    "        \n",
    "        try:\n",
    "            predicted = get_inference(faceImg)\n",
    "\n",
    "            # center text according to the face frame\n",
    "            textSize = cv2.getTextSize(labels[predicted], font, 1, 2)[0]\n",
    "            textX = x + w // 2 - textSize[0] // 2\n",
    "\n",
    "            # draw prediction label\n",
    "            cv2.putText(frame,\n",
    "                        labels[predicted],\n",
    "                        (textX, y-20),\n",
    "                        font, 1, labelColor[predicted], 2)\n",
    "        except:\n",
    "            pass\n",
    "\n",
    "\n",
    "    frame = cv2.cvtColor(frame, cv2.COLOR_RGB2BGR)\n",
    "\n",
    "    cv2.imshow('video', frame)\n",
    "\n",
    "    key = cv2.waitKey(1)\n",
    "    if key == 27:\n",
    "        break\n",
    "\n",
    "cam.release()\n",
    "cv2.destroyAllWindows()"
   ]
  }
 ],
 "metadata": {
  "interpreter": {
   "hash": "9ddfba760c93d0781cb88c4db9a31eb68ca4e1616821530f19d735f356a5c9ec"
  },
  "kernelspec": {
   "display_name": "Python 3.8.10 64-bit",
   "language": "python",
   "name": "python3"
  },
  "language_info": {
   "codemirror_mode": {
    "name": "ipython",
    "version": 3
   },
   "file_extension": ".py",
   "mimetype": "text/x-python",
   "name": "python",
   "nbconvert_exporter": "python",
   "pygments_lexer": "ipython3",
   "version": "3.8.10"
  },
  "orig_nbformat": 4
 },
 "nbformat": 4,
 "nbformat_minor": 2
}
